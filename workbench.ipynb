{
 "cells": [
  {
   "cell_type": "markdown",
   "metadata": {},
   "source": [
    "### Lists \n",
    "\n",
    "The default built-in Python type is called a list, not an array. It is an ordered container of arbitrary length that can hold a heterogenous collection of objects (their types do not matter and can be freely mixed). For homogenous collection of data like matlab array use numpy arrays\n",
    "\n",
    "import numpy as np."
   ]
  },
  {
   "cell_type": "code",
   "execution_count": 65,
   "metadata": {
    "collapsed": false
   },
   "outputs": [
    {
     "name": "stdout",
     "output_type": "stream",
     "text": [
      "[[1, 2, 3, 4], [3, 3, 3, 3], [1, 1, 1, 1]]\n",
      "<class 'list'>\n",
      "[[1, 2, 3, 4], 'name', [1, 1, 1, 1]]\n",
      "[[1, 2, 3, 4], 'name', [1, [5, 5, 5], 1, 1]]\n"
     ]
    }
   ],
   "source": [
    "dataList=[[1,2,3,4], [3,3,3,3], [1,1,1,1]]\n",
    "print(dataList)\n",
    "print(type(dataList))\n",
    "\n",
    "#add in something heterogeneous for kicks\n",
    "dataList[1]='name'\n",
    "print(dataList)\n",
    "dataList[2][1]=[5,5,5]\n",
    "print(dataList)\n",
    "\n",
    "#revert to orriginal dataList for use in later cells\n",
    "dataList=[[1,2,3,4], [3,3,3,3], [1,1,1,1]]"
   ]
  },
  {
   "cell_type": "markdown",
   "metadata": {},
   "source": [
    "## Numpy arrays"
   ]
  },
  {
   "cell_type": "code",
   "execution_count": 5,
   "metadata": {
    "collapsed": false
   },
   "outputs": [
    {
     "name": "stdout",
     "output_type": "stream",
     "text": [
      "[[1 2 3 4]\n",
      " [3 3 3 3]\n",
      " [1 1 1 1]]\n"
     ]
    }
   ],
   "source": [
    "#convert list to numpy array\n",
    "import numpy as np\n",
    "dataarray=np.array(dataList)\n",
    "print(dataarray)"
   ]
  },
  {
   "cell_type": "code",
   "execution_count": 6,
   "metadata": {
    "collapsed": false
   },
   "outputs": [
    {
     "name": "stdout",
     "output_type": "stream",
     "text": [
      "Columnwise mean:              [ 1.66666667  2.          2.33333333  2.66666667]\n",
      "Rowwise mean:                 [ 2.5  3.   1. ]\n",
      "Columnwise product (mult x):  [ 3  6  9 12]\n",
      "Rowwise product (mult x):     [24 81  1]\n"
     ]
    }
   ],
   "source": [
    "#perform operations on numpy array\n",
    "datameancol=dataarray.mean(axis=0)\n",
    "print('Columnwise mean:             ', datameancol)\n",
    "datameanrow=dataarray.mean(axis=1)\n",
    "print('Rowwise mean:                ', datameanrow)\n",
    "\n",
    "datameancol=dataarray.prod(axis=0)\n",
    "print('Columnwise product (mult x): ', datameancol)\n",
    "datameanrow=dataarray.prod(axis=1)\n",
    "print('Rowwise product (mult x):    ', datameanrow)\n"
   ]
  },
  {
   "cell_type": "code",
   "execution_count": 7,
   "metadata": {
    "collapsed": false
   },
   "outputs": [
    {
     "name": "stdout",
     "output_type": "stream",
     "text": [
      "how big is my numpy array? dataarray.shape= (3, 4)\n",
      "extract one element: dataarray[0,0]= 1\n",
      "extract first col: dataarray[:,0]= [1 3 1]\n",
      "extract first row: dataarray[0,:]= [1 2 3 4]\n",
      "extract 2nd col: dataarray[:,1]= [2 3 1]\n",
      "extract 2nd row: dataarray[1,:]= [3 3 3 3]\n",
      "extract last col: dataarray[:,-1]= [4 3 1]\n",
      "extract last row: dataarray[-1,:]= [1 1 1 1]\n",
      "extract 2nd last col: dataarray[:,-2]= [3 3 1]\n",
      "extract 2nd last row: dataarray[-2,:]= [3 3 3 3]\n",
      "Write over 2nd last row (dataarray[-2,:]=[4,4,4,4]), now dataarray[-2,:]= [4 4 4 4]\n"
     ]
    }
   ],
   "source": [
    "# extract or rewrite rows and columns\n",
    "print('how big is my numpy array? dataarray.shape=',dataarray.shape)\n",
    "print('extract one element: dataarray[0,0]=',dataarray[0,0])\n",
    "print('extract first col: dataarray[:,0]=',dataarray[:,0])\n",
    "print('extract first row: dataarray[0,:]=',dataarray[0,:])\n",
    "print('extract 2nd col: dataarray[:,1]=',dataarray[:,1])\n",
    "print('extract 2nd row: dataarray[1,:]=',dataarray[1,:])\n",
    "print('extract last col: dataarray[:,-1]=',dataarray[:,-1])\n",
    "print('extract last row: dataarray[-1,:]=',dataarray[-1,:])\n",
    "print('extract 2nd last col: dataarray[:,-2]=',dataarray[:,-2])\n",
    "print('extract 2nd last row: dataarray[-2,:]=',dataarray[-2,:])\n",
    "\n",
    "dataarray[-2,:]=[4,4,4,4]\n",
    "print('Write over 2nd last row (dataarray[-2,:]=[4,4,4,4]), now dataarray[-2,:]=',dataarray[-2,:])"
   ]
  },
  {
   "cell_type": "code",
   "execution_count": 8,
   "metadata": {
    "collapsed": false
   },
   "outputs": [
    {
     "name": "stdout",
     "output_type": "stream",
     "text": [
      "[[ 0.  0.  0.  0.  0.]\n",
      " [ 0.  0.  0.  0.  0.]\n",
      " [ 0.  0.  0.  0.  0.]\n",
      " [ 0.  0.  0.  0.  0.]\n",
      " [ 0.  0.  0.  0.  0.]]\n",
      "[[ 1.  1.  1.  1.  1.]\n",
      " [ 0.  0.  0.  0.  0.]\n",
      " [ 0.  0.  0.  0.  0.]\n",
      " [ 0.  0.  0.  0.  0.]\n",
      " [ 0.  0.  0.  0.  0.]]\n",
      "[[ 1.  1.  1.  1.  1.]\n",
      " [ 1.  1.  1.  1.  1.]\n",
      " [ 0.  0.  0.  0.  0.]\n",
      " [ 0.  0.  0.  0.  0.]\n",
      " [ 0.  0.  0.  0.  0.]]\n",
      "[[ 1.  1.  1.  1.  1.]\n",
      " [ 1.  1.  1.  1.  1.]\n",
      " [ 1.  1.  1.  1.  1.]\n",
      " [ 0.  0.  0.  0.  0.]\n",
      " [ 0.  0.  0.  0.  0.]]\n",
      "[[ 1.  1.  1.  1.  1.]\n",
      " [ 1.  1.  1.  1.  1.]\n",
      " [ 1.  1.  1.  1.  1.]\n",
      " [ 1.  1.  1.  1.  1.]\n",
      " [ 0.  0.  0.  0.  0.]]\n",
      "[[ 1.  1.  1.  1.  1.]\n",
      " [ 1.  1.  1.  1.  1.]\n",
      " [ 1.  1.  1.  1.  1.]\n",
      " [ 1.  1.  1.  1.  1.]\n",
      " [ 1.  1.  1.  1.  1.]]\n"
     ]
    }
   ],
   "source": [
    "#preallocate a numpy array and fill in for loop\n",
    "import numpy as np\n",
    "myarray=np.zeros([5,5])  #or np.ones([10,10])\n",
    "print(myarray)\n",
    "for i in range(min(myarray.shape)):\n",
    "    myarray[i,:]=np.ones([1,5])\n",
    "    print(myarray)"
   ]
  },
  {
   "cell_type": "code",
   "execution_count": 9,
   "metadata": {
    "collapsed": false
   },
   "outputs": [
    {
     "name": "stdout",
     "output_type": "stream",
     "text": [
      "<class 'numpy.ndarray'>\n",
      "[[ 1.  1.  1.  1.  1.]\n",
      " [ 1.  1.  1.  1.  1.]\n",
      " [ 1.  1.  1.  1.  1.]\n",
      " [ 1.  1.  1.  1.  1.]\n",
      " [ 1.  1.  1.  1.  1.]] [ 0.     0.001  0.002  0.003  0.004]\n",
      "[[ 1.     1.     1.     1.     1.   ]\n",
      " [ 0.     0.001  0.002  0.003  0.004]\n",
      " [ 1.     1.     1.     1.     1.   ]\n",
      " [ 1.     1.     1.     1.     1.   ]\n",
      " [ 1.     1.     1.     1.     1.   ]]\n"
     ]
    }
   ],
   "source": [
    "#note indices   for a 5x5 array\n",
    "\n",
    "theta=np.arange(0.0, 1.0, 0.001)\n",
    "myarray=np.ones([5,5]) \n",
    "print(type(theta))\n",
    "print(myarray, theta[0:5])  #this gives me theta[0], theta[1],theta[2],theta[3],theta[4] DOES NOT INCLUDE theta[5]\n",
    "theta[1:5].shape\n",
    "myarray[1,:]=list(theta[0:5])\n",
    "print(myarray)"
   ]
  },
  {
   "cell_type": "markdown",
   "metadata": {},
   "source": [
    "### Plot numpy array as image"
   ]
  },
  {
   "cell_type": "code",
   "execution_count": 10,
   "metadata": {
    "collapsed": false
   },
   "outputs": [
    {
     "data": {
      "image/png": "[encoded data removed]",
      "text/plain": [
       "<matplotlib.figure.Figure at 0x6190390>"
      ]
     },
     "metadata": {},
     "output_type": "display_data"
    }
   ],
   "source": [
    "import matplotlib.pyplot as plt\n",
    "image=plt.imshow(dataarray)\n",
    "plt.show(image)\n"
   ]
  },
  {
   "cell_type": "markdown",
   "metadata": {},
   "source": [
    "### Loop da loops"
   ]
  },
  {
   "cell_type": "code",
   "execution_count": 1,
   "metadata": {
    "collapsed": false
   },
   "outputs": [
    {
     "name": "stdout",
     "output_type": "stream",
     "text": [
      "a\n",
      "b\n",
      "c\n",
      "after the loop, the letter is c\n"
     ]
    }
   ],
   "source": [
    "for letter in 'abc':\n",
    "    print(letter)\n",
    "print('after the loop, the letter is', letter)\n"
   ]
  },
  {
   "cell_type": "code",
   "execution_count": 2,
   "metadata": {
    "collapsed": false
   },
   "outputs": [
    {
     "name": "stdout",
     "output_type": "stream",
     "text": [
      "a\n",
      "b\n",
      "c\n",
      "after the loop, i is c\n"
     ]
    }
   ],
   "source": [
    "for i in 'abc':\n",
    "    print(i)\n",
    "print('after the loop, i is', i)\n"
   ]
  },
  {
   "cell_type": "code",
   "execution_count": 3,
   "metadata": {
    "collapsed": false
   },
   "outputs": [
    {
     "name": "stdout",
     "output_type": "stream",
     "text": [
      "c\n",
      "c\n",
      "c\n",
      "after the loop, i is c\n"
     ]
    }
   ],
   "source": [
    "for letter in 'abc':\n",
    "    print(i)\n",
    "print('after the loop, i is', i)"
   ]
  },
  {
   "cell_type": "markdown",
   "metadata": {},
   "source": [
    "### Choices of Display"
   ]
  },
  {
   "cell_type": "code",
   "execution_count": 56,
   "metadata": {
    "collapsed": false
   },
   "outputs": [
    {
     "name": "stdout",
     "output_type": "stream",
     "text": [
      "OPTION  1 PRINT - plain print\n",
      "\n",
      "The probability of Heads, P(H)=\theta, using MLE is 2\n",
      "The probability of Heads, P(H)=\\theta, using MLE is 2\n",
      "\n",
      "OPTION  2 DISPLAY - pretty print + can use LaTex\n"
     ]
    },
    {
     "data": {
      "text/latex": [
       "$$\\text{The probability of Heads, } P(H)=\\theta,\\text{ using MLE is } 2$$"
      ],
      "text/plain": [
       "<IPython.core.display.Math object>"
      ]
     },
     "metadata": {},
     "output_type": "display_data"
    },
    {
     "name": "stdout",
     "output_type": "stream",
     "text": [
      "\n",
      "OPTION  2 TEXT WITHIN MATPLOTLIB - can use LaTex\n"
     ]
    },
    {
     "data": {
      "image/png": "[encoded data removed]",
      "text/plain": [
       "<matplotlib.figure.Figure at 0x828eb00>"
      ]
     },
     "metadata": {},
     "output_type": "display_data"
    }
   ],
   "source": [
    "# choices of Display \n",
    "theta=np.array([0,1,2,3,4])\n",
    "\n",
    "print('OPTION  1 PRINT - plain print')\n",
    "print('')\n",
    "#r before the string means that no substitutions are made; otherwise you have to escape the slashes.\n",
    "print('The probability of Heads, P(H)=\\theta, using MLE is', theta[2])\n",
    "print(r'The probability of Heads, P(H)=\\theta, using MLE is', theta[2])\n",
    "print('')\n",
    "print('OPTION  2 DISPLAY - pretty print + can use LaTex')\n",
    "from IPython.display import display, Math, Latex\n",
    "\n",
    "display(Math(r'\\text{The probability of Heads, } P(H)=\\theta,\\text{ using MLE is } %s' % theta[2]))\n",
    "\n",
    "print('')\n",
    "print('OPTION  2 TEXT WITHIN MATPLOTLIB - can use LaTex')\n",
    "import matplotlib.pyplot as plt\n",
    "\n",
    "plt.plot(theta,2*theta)\n",
    "plt.xlabel(r'$\\theta$')\n",
    "plt.ylabel(r'$2\\theta$')\n",
    "#plt.title('My Plot')\n",
    "plt.title(r\"My Plot Title with variable $\\theta_2=$ %s\" % theta[2])\n",
    "plt.show()\n"
   ]
  },
  {
   "cell_type": "code",
   "execution_count": null,
   "metadata": {
    "collapsed": true
   },
   "outputs": [],
   "source": []
  }
 ],
 "metadata": {
  "kernelspec": {
   "display_name": "Python 3",
   "language": "python",
   "name": "python3"
  },
  "language_info": {
   "codemirror_mode": {
    "name": "ipython",
    "version": 3
   },
   "file_extension": ".py",
   "mimetype": "text/x-python",
   "name": "python",
   "nbconvert_exporter": "python",
   "pygments_lexer": "ipython3",
   "version": "3.6.0"
  }
 },
 "nbformat": 4,
 "nbformat_minor": 2
}
